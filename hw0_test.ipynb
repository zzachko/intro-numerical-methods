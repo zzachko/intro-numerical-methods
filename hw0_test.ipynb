{
 "cells": [
  {
   "cell_type": "code",
   "execution_count": null,
   "metadata": {},
   "outputs": [],
   "source": [
    "import matplotlib.pyplot as plt\n",
    "\n",
    "%matplotlib inline\n",
    "%precision 16\n",
    "import numpy\n"
   ]
  },
  {
   "cell_type": "markdown",
   "metadata": {
    "deletable": false,
    "editable": false,
    "nbgrader": {
     "cell_type": "markdown",
     "checksum": "b90c7661fb75c3805dc9db5381d8c40c",
     "grade": false,
     "grade_id": "cell8438889984008151",
     "locked": true,
     "schema_version": 3,
     "solution": false
    }
   },
   "source": [
    "# Homework 0:  A Test\n",
    "\n",
    "This notebook contains two short (and hopefully simple) problems to test the homework collection and grading system for APMA4300.  \n",
    "\n",
    "### General Instructions:  \n",
    "\n",
    "Just fill in the cells marked `YOUR ANSWER HERE` (Markdown) or `# YOUR CODE HERE` (python).  \n",
    "\n",
    "**Please!** do not copy any of the existing cells as that can break the autograder.  If necessary, you can always _add_ additional cells but do not copy cells...particular ones that will be graded."
   ]
  },
  {
   "cell_type": "markdown",
   "metadata": {
    "deletable": false,
    "editable": false,
    "nbgrader": {
     "cell_type": "markdown",
     "checksum": "86a972d6743f8980bc61658cedd6dfdc",
     "grade": false,
     "grade_id": "cell6823144658916374",
     "locked": true,
     "schema_version": 3,
     "solution": false
    }
   },
   "source": [
    "## Question 1  \n",
    "\n",
    "In the cell below, write out in LaTeX, the quadratic formula for the solution to \n",
    "\n",
    "$$\n",
    "    x^2 + \\alpha x + \\beta = 0\n",
    "$$"
   ]
  },
  {
   "cell_type": "markdown",
   "metadata": {
    "deletable": false,
    "nbgrader": {
     "cell_type": "markdown",
     "checksum": "ec151a4e9dc8ddb514ade3caac782630",
     "grade": true,
     "grade_id": "cell1448053803160613",
     "locked": false,
     "points": 1,
     "schema_version": 3,
     "solution": true
    }
   },
   "source": [
    "YOUR ANSWER HERE"
   ]
  },
  {
   "cell_type": "markdown",
   "metadata": {
    "deletable": false,
    "editable": false,
    "nbgrader": {
     "cell_type": "markdown",
     "checksum": "6e78c79305b7362364088234b01cdb55",
     "grade": false,
     "grade_id": "cell4384914739699754",
     "locked": true,
     "schema_version": 3,
     "solution": false
    }
   },
   "source": [
    "## Question 2"
   ]
  },
  {
   "cell_type": "markdown",
   "metadata": {
    "deletable": false,
    "editable": false,
    "nbgrader": {
     "cell_type": "markdown",
     "checksum": "7c7347c06ce1bcdebb48469ad6abbd18",
     "grade": false,
     "grade_id": "cell1244223495354736",
     "locked": true,
     "schema_version": 3,
     "solution": false
    }
   },
   "source": [
    "Write a python function that returns the two roots of your quadratic equation given coefficients $\\alpha$, $\\beta$\n",
    "\n",
    "This is actually a little trickier than it looks:\n",
    "*  you can use numpy.sqrt(x) but be careful, it will fail if $x<0$ unless you call it as numpy.sqrt(x,dtype=complex)\n",
    "*  The tests assume the two roots are sorted (hint: you can use numpy.sort())\n",
    "*  After you have implemented your solution, you should remove the `raise NotImplementedError()` line (as you just implemented it)"
   ]
  },
  {
   "cell_type": "code",
   "execution_count": null,
   "metadata": {
    "deletable": false,
    "nbgrader": {
     "cell_type": "code",
     "checksum": "3e38006aeb98632de753e9e389c7dff2",
     "grade": false,
     "grade_id": "cell3621925556728684",
     "locked": false,
     "schema_version": 3,
     "solution": true
    }
   },
   "outputs": [],
   "source": [
    "def myroots(a, b):\n",
    "    \"\"\"Compute the two roots of the quadratic equation given by x^2 + ax + b = 0\n",
    "       and return them as a sorted python list (or numpy array)\n",
    "    \"\"\"\n",
    "    # YOUR CODE HERE\n",
    "    raise NotImplementedError()"
   ]
  },
  {
   "cell_type": "code",
   "execution_count": null,
   "metadata": {
    "deletable": false,
    "editable": false,
    "nbgrader": {
     "cell_type": "code",
     "checksum": "1b8000c25644df876ee98b00dac18fa4",
     "grade": true,
     "grade_id": "cell5655123106444739",
     "locked": true,
     "points": 5,
     "schema_version": 3,
     "solution": false
    }
   },
   "outputs": [],
   "source": [
    "numpy.testing.assert_allclose(myroots(1.,0.), [-1.,0.])\n",
    "numpy.testing.assert_allclose(myroots(1.,-2.), [-2.,1.])\n",
    "numpy.testing.assert_allclose(myroots(-5.0,6.0), [2.,3.])\n",
    "print('success: passed obvious tests')"
   ]
  }
 ],
 "metadata": {
  "kernelspec": {
   "display_name": "Python 3",
   "language": "python",
   "name": "python3"
  },
  "language_info": {
   "codemirror_mode": {
    "name": "ipython",
    "version": 3
   },
   "file_extension": ".py",
   "mimetype": "text/x-python",
   "name": "python",
   "nbconvert_exporter": "python",
   "pygments_lexer": "ipython3",
   "version": "3.8.5"
  }
 },
 "nbformat": 4,
 "nbformat_minor": 2
}
